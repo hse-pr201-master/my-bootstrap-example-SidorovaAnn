{
 "cells": [
  {
   "cell_type": "markdown",
   "metadata": {},
   "source": [
    "\"Как я использовал(а) бутстрэп ? \""
   ]
  },
  {
   "cell_type": "markdown",
   "metadata": {},
   "source": [
    "Из лекции я поняла, что bootstrap может являться одним из эффективных механизмов для того, \n",
    "чтобы оценивать выборочное распределение стат. данных/параметров внутри нашей модели."
   ]
  },
  {
   "cell_type": "markdown",
   "metadata": {},
   "source": [
    "Удобно,что нам совсем не обязательно иметь выполненную предпосылку о нормальности распределения."
   ]
  },
  {
   "cell_type": "code",
   "execution_count": null,
   "metadata": {},
   "outputs": [],
   "source": [
    "#Пробую использовать уже оптимизированную и удобную библиотеку для бутстрэпа:\n",
    "#!pip3 install arch"
   ]
  },
  {
   "cell_type": "code",
   "execution_count": 8,
   "metadata": {},
   "outputs": [
    {
     "name": "stdout",
     "output_type": "stream",
     "text": [
      "Collecting package metadata (current_repodata.json): / WARNING conda.models.version:get_matcher(535): Using .* with relational operator is superfluous and deprecated and will be removed in a future version of conda. Your spec was 1.7.1.*, but conda is ignoring the .* and treating it as 1.7.1\n",
      "done\n",
      "Solving environment: done\n",
      "\n",
      "## Package Plan ##\n",
      "\n",
      "  environment location: /Users/annasidorova/opt/anaconda3\n",
      "\n",
      "  added / updated specs:\n",
      "    - arch-py\n",
      "\n",
      "\n",
      "The following packages will be downloaded:\n",
      "\n",
      "    package                    |            build\n",
      "    ---------------------------|-----------------\n",
      "    conda-4.14.0               |   py38h50d1736_0        1012 KB  conda-forge\n",
      "    ------------------------------------------------------------\n",
      "                                           Total:        1012 KB\n",
      "\n",
      "The following packages will be UPDATED:\n",
      "\n",
      "  conda                               4.12.0-py38h50d1736_0 --> 4.14.0-py38h50d1736_0\n",
      "\n",
      "\n",
      "\n",
      "Downloading and Extracting Packages\n",
      "conda-4.14.0         | 1012 KB   | ##################################### | 100% \n",
      "Preparing transaction: done\n",
      "Verifying transaction: done\n",
      "Executing transaction: done\n",
      "\n",
      "Note: you may need to restart the kernel to use updated packages.\n"
     ]
    }
   ],
   "source": [
    "conda install -c conda-forge arch-py"
   ]
  },
  {
   "cell_type": "code",
   "execution_count": null,
   "metadata": {},
   "outputs": [],
   "source": [
    "#pip install --upgrade numpy"
   ]
  },
  {
   "cell_type": "code",
   "execution_count": 11,
   "metadata": {},
   "outputs": [],
   "source": [
    "import numpy as np\n",
    "np.bool = np.bool_"
   ]
  },
  {
   "cell_type": "code",
   "execution_count": 13,
   "metadata": {},
   "outputs": [
    {
     "name": "stdout",
     "output_type": "stream",
     "text": [
      "Collecting package metadata (current_repodata.json): done\n",
      "Solving environment: done\n",
      "\n",
      "# All requested packages already installed.\n",
      "\n",
      "Retrieving notices: ...working... done\n",
      "\n",
      "Note: you may need to restart the kernel to use updated packages.\n"
     ]
    }
   ],
   "source": [
    "conda install pandas"
   ]
  },
  {
   "cell_type": "code",
   "execution_count": 19,
   "metadata": {},
   "outputs": [
    {
     "name": "stdout",
     "output_type": "stream",
     "text": [
      "Collecting numpy==1.19\n",
      "  Downloading numpy-1.19.0-cp38-cp38-macosx_10_9_x86_64.whl (15.3 MB)\n",
      "\u001b[K     |████████████████████████████████| 15.3 MB 13.4 MB/s eta 0:00:01   |█████▎                          | 2.5 MB 1.6 MB/s eta 0:00:09     |███████████████████▋            | 9.4 MB 518 kB/s eta 0:00:12\n",
      "\u001b[?25hInstalling collected packages: numpy\n",
      "  Attempting uninstall: numpy\n",
      "    Found existing installation: numpy 1.24.4\n",
      "    Uninstalling numpy-1.24.4:\n",
      "      Successfully uninstalled numpy-1.24.4\n",
      "Successfully installed numpy-1.19.0\n",
      "Note: you may need to restart the kernel to use updated packages.\n"
     ]
    }
   ],
   "source": [
    "#pip install numpy==1.19"
   ]
  },
  {
   "cell_type": "code",
   "execution_count": 20,
   "metadata": {},
   "outputs": [
    {
     "name": "stdout",
     "output_type": "stream",
     "text": [
      "Collecting package metadata (current_repodata.json): done\n",
      "Solving environment: done\n",
      "\n",
      "# All requested packages already installed.\n",
      "\n",
      "Retrieving notices: ...working... done\n",
      "\n",
      "Note: you may need to restart the kernel to use updated packages.\n"
     ]
    }
   ],
   "source": [
    "conda install seaborn"
   ]
  },
  {
   "cell_type": "code",
   "execution_count": 40,
   "metadata": {},
   "outputs": [
    {
     "name": "stdout",
     "output_type": "stream",
     "text": [
      "Collecting package metadata (current_repodata.json): \\ WARNING conda.models.version:get_matcher(538): Using .* with relational operator is superfluous and deprecated and will be removed in a future version of conda. Your spec was 1.7.1.*, but conda is ignoring the .* and treating it as 1.7.1\n",
      "done\n",
      "Solving environment: done\n",
      "\n",
      "\n",
      "==> WARNING: A newer version of conda exists. <==\n",
      "  current version: 4.14.0\n",
      "  latest version: 23.10.0\n",
      "\n",
      "Please update conda by running\n",
      "\n",
      "    $ conda update -n base -c conda-forge conda\n",
      "\n",
      "\n",
      "\n",
      "## Package Plan ##\n",
      "\n",
      "  environment location: /Users/annasidorova/opt/anaconda3\n",
      "\n",
      "  added / updated specs:\n",
      "    - bootstrap\n",
      "\n",
      "\n",
      "The following packages will be downloaded:\n",
      "\n",
      "    package                    |            build\n",
      "    ---------------------------|-----------------\n",
      "    bootstrap-4.4.1            |                0         590 KB  conda-forge\n",
      "    ------------------------------------------------------------\n",
      "                                           Total:         590 KB\n",
      "\n",
      "The following NEW packages will be INSTALLED:\n",
      "\n",
      "  bootstrap          conda-forge/noarch::bootstrap-4.4.1-0\n",
      "\n",
      "\n",
      "\n",
      "Downloading and Extracting Packages\n",
      "bootstrap-4.4.1      | 590 KB    | ##################################### | 100% \n",
      "Preparing transaction: done\n",
      "Verifying transaction: done\n",
      "Executing transaction: done\n",
      "Retrieving notices: ...working... done\n",
      "\n",
      "Note: you may need to restart the kernel to use updated packages.\n"
     ]
    }
   ],
   "source": [
    "conda install -c conda-forge bootstrap"
   ]
  },
  {
   "cell_type": "code",
   "execution_count": 24,
   "metadata": {},
   "outputs": [],
   "source": [
    "#Модифицирую пример из лекции. Инициилизируем генератор случайных чисел:\n",
    "random = np.random.default_rng(1000)\n",
    "#Зерно генератора - задали равным 1000."
   ]
  },
  {
   "cell_type": "markdown",
   "metadata": {},
   "source": [
    "С помощью созданного генератора \"random\" придумаем псевдослучайную выборку из нормального распределения с мат ожиданием равным 4 и стандартным отклонением равным 3.\n",
    "\n",
    "Возьмем n=10 в качестве кол-ва наблюдений."
   ]
  },
  {
   "cell_type": "code",
   "execution_count": 25,
   "metadata": {},
   "outputs": [],
   "source": [
    "x = random.normal(loc = 4, scale = 3, size = 10)"
   ]
  },
  {
   "cell_type": "code",
   "execution_count": 26,
   "metadata": {},
   "outputs": [
    {
     "data": {
      "text/plain": [
       "array([3.03600938, 2.54301557, 9.04017439, 9.91158065, 4.46555098,\n",
       "       0.22670366, 4.60065525, 4.12615898, 1.3659506 , 8.58822369])"
      ]
     },
     "execution_count": 26,
     "metadata": {},
     "output_type": "execute_result"
    }
   ],
   "source": [
    "#Как выглядит наша случайная выборка x?\n",
    "x"
   ]
  },
  {
   "cell_type": "code",
   "execution_count": 27,
   "metadata": {},
   "outputs": [
    {
     "data": {
      "text/plain": [
       "4.790402313117086"
      ]
     },
     "execution_count": 27,
     "metadata": {},
     "output_type": "execute_result"
    }
   ],
   "source": [
    "np.mean(x)"
   ]
  },
  {
   "cell_type": "markdown",
   "metadata": {},
   "source": [
    "Видим, что выборочные характеристики отличаются от истинных: \n",
    "реальное мат ожидание каждого икса (равное 4) vs выборочное среднее (равное 4.79)."
   ]
  },
  {
   "cell_type": "markdown",
   "metadata": {},
   "source": [
    "Допустим, что мы не знаем истинное значение мат ожидания. Хотим получить точечную оценку."
   ]
  },
  {
   "cell_type": "code",
   "execution_count": 29,
   "metadata": {},
   "outputs": [
    {
     "data": {
      "text/plain": [
       "4.790402313117086"
      ]
     },
     "execution_count": 29,
     "metadata": {},
     "output_type": "execute_result"
    }
   ],
   "source": [
    "#Естественная точечная оценка для неизвестного мат ожидания:\n",
    "w_hat = np.mean(x)\n",
    "w_hat"
   ]
  },
  {
   "cell_type": "code",
   "execution_count": 31,
   "metadata": {},
   "outputs": [
    {
     "data": {
      "text/plain": [
       "array([1.3659506 , 1.3659506 , 4.60065525, 9.04017439, 4.12615898,\n",
       "       2.54301557, 4.60065525, 8.58822369, 2.54301557, 4.60065525])"
      ]
     },
     "execution_count": 31,
     "metadata": {},
     "output_type": "execute_result"
    }
   ],
   "source": [
    "# А что делать для построения Д.И. для неизвестного мат ожидания? (если не знаем формулу) \n",
    "# Превращаем нашу точечную оценку в интервальную:\n",
    "\n",
    "# Первая фейковая выборка - из 10 наблюдений берем 10 с возможностью повтора:\n",
    "x_star1 = random.choice(x, size = len(x))\n",
    "x_star1\n"
   ]
  },
  {
   "cell_type": "code",
   "execution_count": 32,
   "metadata": {},
   "outputs": [
    {
     "data": {
      "text/plain": [
       "4.337445511226076"
      ]
     },
     "execution_count": 32,
     "metadata": {},
     "output_type": "execute_result"
    }
   ],
   "source": [
    "# Первая симулированная точечная оценка:\n",
    "np.mean(x_star1)"
   ]
  },
  {
   "cell_type": "markdown",
   "metadata": {},
   "source": [
    "И ведь таких бустрэп-выборок можно создать много!"
   ]
  },
  {
   "cell_type": "code",
   "execution_count": 34,
   "metadata": {},
   "outputs": [],
   "source": [
    "number_of_boot = 1800 # Хотим получить 1800 выборок из нашей исходной выборки\n",
    "# Поместим эти копии в список:\n",
    "w_hat_star = [np.mean(random.choice(x, size = len(x))) for i in range(number_of_boot)]\n",
    "# 1800 точечных оценок для мат ожидания!"
   ]
  },
  {
   "cell_type": "code",
   "execution_count": 36,
   "metadata": {},
   "outputs": [
    {
     "data": {
      "text/plain": [
       "[5.098107794511509, 5.848474728749716, 5.384304660983801, 2.4895421813417906]"
      ]
     },
     "execution_count": 36,
     "metadata": {},
     "output_type": "execute_result"
    }
   ],
   "source": [
    "# Посмотрим срез полученных данных по точечным оценкам:\n",
    "w_hat_star[1:5]"
   ]
  },
  {
   "cell_type": "code",
   "execution_count": 37,
   "metadata": {},
   "outputs": [
    {
     "data": {
      "text/plain": [
       "[2.8329849379797913, 6.824890319712152]"
      ]
     },
     "execution_count": 37,
     "metadata": {},
     "output_type": "execute_result"
    }
   ],
   "source": [
    "# Покажем, как в нашем случае будет работать наивный бутстрэп. \n",
    "## для дефолтного двухстороннего Д.И. для неизвестного мат ожидания:\n",
    "\n",
    "# Взяли квантиль от нашей выборки порядка 0.025 левый и 0.975 правый, \n",
    "## чтобы получить доверительный интервал для мат ожидания:\n",
    "[np.quantile(w_hat_star,0.025), np.quantile(w_hat_star, 0.975)]"
   ]
  },
  {
   "cell_type": "markdown",
   "metadata": {},
   "source": [
    "Настоящее мат ожидание равнялось 4, и мы накрыли его в нашем доверительном интервале!\n",
    "\n",
    "Вспомним, что после каждой выемки элемента мы его обратно возвращаем.\n",
    "Таким образом получаем выводы:\n",
    "   \n",
    "   1.(Наивный) бутстрэп - средство для создания многочисленной популяции элементов \n",
    "    (которая повторяет в себе характеристики изначальной выборки).\n",
    "   2. Чем больше итераций мы выполним, тем точнее получаем оценку нашего доверительного интервала."
   ]
  },
  {
   "cell_type": "code",
   "execution_count": null,
   "metadata": {},
   "outputs": [],
   "source": [
    "#Пример Basic IID Bootstrap , похожий на задачку выше:\n",
    "\n",
    "###from arch.bootstrap import IIDBootstrap, IndependentSamplesBootstrap\n",
    "#bstr_x = IIDBootstrap(x, seed = 100000) # задали ядро равным 100000\n",
    "#bstr_x.conf_int(np.mean, method = 'basic', reps = 20000, size = 0.95)"
   ]
  }
 ],
 "metadata": {
  "kernelspec": {
   "display_name": "Python 3",
   "language": "python",
   "name": "python3"
  },
  "language_info": {
   "codemirror_mode": {
    "name": "ipython",
    "version": 3
   },
   "file_extension": ".py",
   "mimetype": "text/x-python",
   "name": "python",
   "nbconvert_exporter": "python",
   "pygments_lexer": "ipython3",
   "version": "3.8.3"
  }
 },
 "nbformat": 4,
 "nbformat_minor": 4
}
